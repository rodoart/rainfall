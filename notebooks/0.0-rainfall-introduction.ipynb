{
 "cells": [
  {
   "attachments": {},
   "cell_type": "markdown",
   "metadata": {},
   "source": [
    "# Rainfall Analysis and Prediction\n",
    "\n",
    "---\n",
    "\n",
    "**Author:** [rodoart](https://github.com/rodoart/)<br>\n",
    "**Date created:** 2023-01-29 <br>\n",
    "**Last modified:** 2023-01-30<br>\n",
    "**Description:** \n",
    "\n",
    "\n",
    "# 1. Introduction"
   ]
  },
  {
   "cell_type": "markdown",
   "metadata": {},
   "source": [
    "## Path config\n",
    "\n",
    "If you want the files to be copied to another folder within the same machine you are working on, by a source path other than remote."
   ]
  },
  {
   "cell_type": "code",
   "execution_count": 2,
   "metadata": {},
   "outputs": [],
   "source": [
    "PROJECT_SLUG = 'rainfall'\n",
    "NAME = 'introduction'\n",
    "NUMBER = '0.0'\n",
    "\n",
    "\n",
    "NOTEBOOK_NAME = f'{NUMBER}-{PROJECT_SLUG}-{NAME}.ipynb'\n",
    "\n",
    "# LOCAL\n",
    "LOCAL_PATH = '..'"
   ]
  },
  {
   "attachments": {},
   "cell_type": "markdown",
   "metadata": {},
   "source": [
    "## Import custom libaries"
   ]
  },
  {
   "cell_type": "code",
   "execution_count": null,
   "metadata": {},
   "outputs": [],
   "source": [
    "import sys\n",
    "\n",
    "# It depends on where the library that comes with this package is stored.\n",
    "sys.path.append(REMOTE_PATH)"
   ]
  },
  {
   "cell_type": "markdown",
   "metadata": {},
   "source": [
    "## Data download, cleaning and preparation\n",
    "\n",
    "The data comes from the [Mexican Meteorological Service](https://smn.conagua.gob.mx/es/climatologia/informacion-climatologica/informacion-estadistica-climatologica). They are available as a Google Earth `.kmz` file, which shows the more than 1000 stations in the republic and links to download it.\n",
    "\n",
    "![Image of weather stations in Google Earth Pro.](https://i.ibb.co/5WLZNSQ/republica.jpg)\n"
   ]
  }
 ],
 "metadata": {
  "kernelspec": {
   "display_name": "rainfall",
   "language": "python",
   "name": "python3"
  },
  "language_info": {
   "codemirror_mode": {
    "name": "ipython",
    "version": 3
   },
   "file_extension": ".py",
   "mimetype": "text/x-python",
   "name": "python",
   "nbconvert_exporter": "python",
   "pygments_lexer": "ipython3",
   "version": "3.10.9 | packaged by conda-forge | (main, Jan 11 2023, 15:15:40) [MSC v.1916 64 bit (AMD64)]"
  },
  "orig_nbformat": 4,
  "vscode": {
   "interpreter": {
    "hash": "5e3ae4a206d61472c6b3df74ff1a189acb7b8eab87b556bd880a00183d7db0f1"
   }
  }
 },
 "nbformat": 4,
 "nbformat_minor": 2
}
